{
  "cells": [
    {
      "cell_type": "code",
      "execution_count": 1,
      "metadata": {
        "id": "y7u8OZpJksCW"
      },
      "outputs": [],
      "source": [
        "import numpy as np \n",
        "import pandas as pd\n",
        "import matplotlib.pyplot as plt"
      ]
    },
    {
      "cell_type": "markdown",
      "metadata": {
        "id": "18vlirZlcJXb"
      },
      "source": [
        "# Import Data"
      ]
    },
    {
      "cell_type": "code",
      "execution_count": 2,
      "metadata": {
        "id": "i735ELQ4k2wr"
      },
      "outputs": [],
      "source": [
        "! pip install -q kaggle\n",
        "! mkdir -p ~/.kaggle\n",
        "! cp kaggle.json ~/.kaggle/\n",
        "! chmod 600 /root/.kaggle/kaggle.json"
      ]
    },
    {
      "cell_type": "code",
      "execution_count": 3,
      "metadata": {
        "colab": {
          "base_uri": "https://localhost:8080/"
        },
        "id": "9RXu-9TFlhqB",
        "outputId": "0e2b79b2-7796-48c1-88f5-f10fafe711e4"
      },
      "outputs": [
        {
          "name": "stdout",
          "output_type": "stream",
          "text": [
            "Downloading cicids2017.zip to /content\n",
            " 91% 209M/230M [00:01<00:00, 175MB/s]\n",
            "100% 230M/230M [00:01<00:00, 202MB/s]\n"
          ]
        }
      ],
      "source": [
        "!kaggle datasets download -d cicdataset/cicids2017"
      ]
    },
    {
      "cell_type": "code",
      "execution_count": 4,
      "metadata": {
        "id": "niA1gdwSlni8"
      },
      "outputs": [],
      "source": [
        "! unzip -q /content/cicids2017.zip"
      ]
    },
    {
      "cell_type": "code",
      "execution_count": 5,
      "metadata": {
        "colab": {
          "base_uri": "https://localhost:8080/"
        },
        "id": "lA6YydBkmBEO",
        "outputId": "7fde3719-b670-462c-f566-c58393d79b84"
      },
      "outputs": [
        {
          "name": "stdout",
          "output_type": "stream",
          "text": [
            "/content/MachineLearningCSV/MachineLearningCVE/Friday-WorkingHours-Morning.pcap_ISCX.csv\n",
            "/content/MachineLearningCSV/MachineLearningCVE/Friday-WorkingHours-Afternoon-DDos.pcap_ISCX.csv\n",
            "/content/MachineLearningCSV/MachineLearningCVE/Friday-WorkingHours-Afternoon-PortScan.pcap_ISCX.csv\n",
            "/content/MachineLearningCSV/MachineLearningCVE/Thursday-WorkingHours-Morning-WebAttacks.pcap_ISCX.csv\n",
            "/content/MachineLearningCSV/MachineLearningCVE/Thursday-WorkingHours-Afternoon-Infilteration.pcap_ISCX.csv\n",
            "/content/MachineLearningCSV/MachineLearningCVE/Monday-WorkingHours.pcap_ISCX.csv\n",
            "/content/MachineLearningCSV/MachineLearningCVE/Tuesday-WorkingHours.pcap_ISCX.csv\n",
            "/content/MachineLearningCSV/MachineLearningCVE/Wednesday-workingHours.pcap_ISCX.csv\n"
          ]
        }
      ],
      "source": [
        "import os\n",
        "csv_files = []\n",
        "for dirname, _, filenames in os.walk('/content/MachineLearningCSV/MachineLearningCVE'):\n",
        "    for filename in filenames:\n",
        "        csv_file = os.path.join(dirname, filename)\n",
        "        print(os.path.join(dirname, filename))\n",
        "        csv_files.append(csv_file)"
      ]
    },
    {
      "cell_type": "code",
      "execution_count": 6,
      "metadata": {
        "colab": {
          "base_uri": "https://localhost:8080/"
        },
        "id": "IiL4Fl4omayL",
        "outputId": "89aa8f80-f53e-4e1a-b449-de76fe297225"
      },
      "outputs": [
        {
          "name": "stdout",
          "output_type": "stream",
          "text": [
            "original length of df: 2830743\n",
            "after droping null values, the length of df: 2827876\n"
          ]
        }
      ],
      "source": [
        "df = pd.concat([pd.read_csv(file) for file in csv_files], ignore_index=True)\n",
        "df.columns = df.columns.str.strip()\n",
        "print(\"original length of df:\", len(df))\n",
        "df.replace([np.inf, -np.inf], np.nan, inplace=True)\n",
        "df.dropna(inplace=True)\n",
        "print(\"after droping null values, the length of df:\", len(df))"
      ]
    },
    {
      "cell_type": "markdown",
      "metadata": {
        "id": "GlSUOeSD4RiL"
      },
      "source": []
    },
    {
      "cell_type": "code",
      "execution_count": 7,
      "metadata": {
        "colab": {
          "base_uri": "https://localhost:8080/"
        },
        "id": "aOLZL_bfmnE9",
        "outputId": "e9b5db3f-979e-45de-adea-71616270af42"
      },
      "outputs": [
        {
          "data": {
            "text/plain": [
              "(2827876, 79)"
            ]
          },
          "execution_count": 7,
          "metadata": {},
          "output_type": "execute_result"
        }
      ],
      "source": [
        "df.shape"
      ]
    },
    {
      "cell_type": "markdown",
      "metadata": {
        "id": "lB8tuP0QcPZ-"
      },
      "source": [
        "# Data Preprocessing"
      ]
    },
    {
      "cell_type": "code",
      "execution_count": 8,
      "metadata": {
        "colab": {
          "base_uri": "https://localhost:8080/"
        },
        "id": "X949jenUmymM",
        "outputId": "dad75360-6537-4448-b7e1-67d790735e51"
      },
      "outputs": [
        {
          "data": {
            "text/plain": [
              "BENIGN                        2271320\n",
              "DoS Hulk                       230124\n",
              "PortScan                       158804\n",
              "DDoS                           128025\n",
              "DoS GoldenEye                   10293\n",
              "FTP-Patator                      7935\n",
              "SSH-Patator                      5897\n",
              "DoS slowloris                    5796\n",
              "DoS Slowhttptest                 5499\n",
              "Bot                              1956\n",
              "Web Attack � Brute Force         1507\n",
              "Web Attack � XSS                  652\n",
              "Infiltration                       36\n",
              "Web Attack � Sql Injection         21\n",
              "Heartbleed                         11\n",
              "Name: Label, dtype: int64"
            ]
          },
          "execution_count": 8,
          "metadata": {},
          "output_type": "execute_result"
        }
      ],
      "source": [
        "df.Label.value_counts()"
      ]
    },
    {
      "cell_type": "code",
      "execution_count": 9,
      "metadata": {
        "colab": {
          "base_uri": "https://localhost:8080/"
        },
        "id": "Ocphip7moOdJ",
        "outputId": "35a07624-9b26-4af7-e100-996d603b0a00"
      },
      "outputs": [
        {
          "data": {
            "text/plain": [
              "BENIGN                        2271320\n",
              "DoS                            251712\n",
              "PortScan                       158804\n",
              "DDoS                           128025\n",
              "FTP-Patator                      7935\n",
              "SSH-Patator                      5897\n",
              "Bot                              1956\n",
              "Web Attack � Brute Force         1507\n",
              "Web Attack � XSS                  652\n",
              "Infiltration                       36\n",
              "Web Attack � Sql Injection         21\n",
              "Heartbleed                         11\n",
              "Name: Label, dtype: int64"
            ]
          },
          "execution_count": 9,
          "metadata": {},
          "output_type": "execute_result"
        }
      ],
      "source": [
        "# merg DoS attacks in one name\n",
        "data = df.copy()\n",
        "data.Label.replace([\"DoS GoldenEye\", \"DoS Hulk\", \"DoS Slowhttptest\", \"DoS slowloris\"], \"DoS\", inplace=True)\n",
        "data.Label.value_counts()"
      ]
    },
    {
      "cell_type": "code",
      "execution_count": 10,
      "metadata": {
        "id": "eRP6CPKFo1Wy"
      },
      "outputs": [],
      "source": [
        "# Put DoS and benign in new data\n",
        "dos = data.loc[data['Label'] == 'DoS']\n",
        "bengin = data.loc[data['Label'] == 'BENIGN']"
      ]
    },
    {
      "cell_type": "code",
      "execution_count": 11,
      "metadata": {
        "id": "RsEq3PK_x63y"
      },
      "outputs": [],
      "source": [
        "data = dos.append(bengin)"
      ]
    },
    {
      "cell_type": "code",
      "execution_count": 12,
      "metadata": {
        "id": "Zk9HemLs70ix"
      },
      "outputs": [],
      "source": [
        "# Encode label in data\n",
        "from sklearn.preprocessing import LabelEncoder\n",
        "le = LabelEncoder()\n",
        "data['Label'] = le.fit_transform(data['Label'])"
      ]
    },
    {
      "cell_type": "code",
      "execution_count": 13,
      "metadata": {
        "id": "dvrC2csCRjdO"
      },
      "outputs": [],
      "source": [
        "# scale data \n",
        "from sklearn.preprocessing import MinMaxScaler\n",
        "scaler = MinMaxScaler()\n",
        "data = scaler.fit_transform(data)"
      ]
    },
    {
      "cell_type": "code",
      "execution_count": 14,
      "metadata": {
        "id": "6bZsYK-oWzmP"
      },
      "outputs": [],
      "source": [
        "# select train and test data\n",
        "from sklearn.model_selection import train_test_split\n",
        "x = data[:, 0:78]\n",
        "y = data[:, 78:79]\n",
        "x_train, x_test, y_train, y_test = train_test_split(x, y, test_size=0.2, random_state=4)"
      ]
    },
    {
      "cell_type": "code",
      "execution_count": 15,
      "metadata": {
        "colab": {
          "base_uri": "https://localhost:8080/"
        },
        "id": "OzgGqlPW4yMz",
        "outputId": "8b5a9c3b-f4f0-4bcf-abf4-084c8a945927"
      },
      "outputs": [
        {
          "data": {
            "text/plain": [
              "((2018425, 78), (2018425, 1), (504607, 78))"
            ]
          },
          "execution_count": 15,
          "metadata": {},
          "output_type": "execute_result"
        }
      ],
      "source": [
        "x_train.shape, y_train.shape, x_test.shape"
      ]
    },
    {
      "cell_type": "code",
      "execution_count": 16,
      "metadata": {
        "id": "wvL6MXCgZOJb"
      },
      "outputs": [],
      "source": [
        "from tensorflow.keras.utils import to_categorical\n",
        "y_train = to_categorical(y_train)\n",
        "y_test = to_categorical(y_test)"
      ]
    },
    {
      "cell_type": "markdown",
      "metadata": {
        "id": "tOezMFg2cam5"
      },
      "source": [
        "# MLP Model "
      ]
    },
    {
      "cell_type": "code",
      "execution_count": 17,
      "metadata": {
        "id": "H0rIqOxU8DJE"
      },
      "outputs": [],
      "source": [
        "# Bild MLP model \n",
        "import tensorflow as tf\n",
        "from tensorflow.keras.models import Sequential\n",
        "from tensorflow.keras.layers import Dense,Dropout\n",
        "model = Sequential()\n",
        "model.add(Dense(input_shape=(78,), units=128, activation='relu'))\n",
        "model.add(Dropout(0.2))\n",
        "model.add(Dense(units=256, activation='relu'))\n",
        "model.add(Dropout(0.4))\n",
        "model.add(Dense(units=128, activation='relu'))\n",
        "model.add(Dropout(0.6))\n",
        "model.add(Dense(2, activation='softmax'))"
      ]
    },
    {
      "cell_type": "code",
      "execution_count": 18,
      "metadata": {
        "id": "ziucBRnPWaoY"
      },
      "outputs": [],
      "source": [
        "model.compile(loss='categorical_crossentropy', optimizer='adam', metrics='accuracy')"
      ]
    },
    {
      "cell_type": "code",
      "execution_count": 19,
      "metadata": {
        "colab": {
          "base_uri": "https://localhost:8080/"
        },
        "id": "HhPZv5KfWrp5",
        "outputId": "66e0f5e5-aff1-4d04-f8b0-18a2865102c9"
      },
      "outputs": [
        {
          "name": "stdout",
          "output_type": "stream",
          "text": [
            "Epoch 1/5\n",
            "3943/3943 [==============================] - 17s 4ms/step - loss: 0.0312 - accuracy: 0.9876 - val_loss: 0.0142 - val_accuracy: 0.9938\n",
            "Epoch 2/5\n",
            "3943/3943 [==============================] - 14s 3ms/step - loss: 0.0161 - accuracy: 0.9928 - val_loss: 0.0132 - val_accuracy: 0.9934\n",
            "Epoch 3/5\n",
            "3943/3943 [==============================] - 15s 4ms/step - loss: 0.0150 - accuracy: 0.9931 - val_loss: 0.0119 - val_accuracy: 0.9940\n",
            "Epoch 4/5\n",
            "3943/3943 [==============================] - 16s 4ms/step - loss: 0.0150 - accuracy: 0.9929 - val_loss: 0.0113 - val_accuracy: 0.9940\n",
            "Epoch 5/5\n",
            "3943/3943 [==============================] - 13s 3ms/step - loss: 0.0143 - accuracy: 0.9928 - val_loss: 0.0127 - val_accuracy: 0.9936\n"
          ]
        }
      ],
      "source": [
        "history = model.fit(x_train, y_train, batch_size=512, epochs=5, validation_data=(x_test, y_test))"
      ]
    },
    {
      "cell_type": "code",
      "execution_count": 20,
      "metadata": {
        "colab": {
          "base_uri": "https://localhost:8080/"
        },
        "id": "gYtDKGbdcSn1",
        "outputId": "9d8c31a3-5cde-429d-f6c1-13a345df9c4b"
      },
      "outputs": [
        {
          "name": "stdout",
          "output_type": "stream",
          "text": [
            "15769/15769 [==============================] - 34s 2ms/step - loss: 0.0127 - accuracy: 0.9936\n"
          ]
        },
        {
          "data": {
            "text/plain": [
              "[0.01271545048803091, 0.9936286807060242]"
            ]
          },
          "execution_count": 20,
          "metadata": {},
          "output_type": "execute_result"
        }
      ],
      "source": [
        "model.evaluate(x_test, y_test)"
      ]
    },
    {
      "cell_type": "code",
      "execution_count": 21,
      "metadata": {
        "colab": {
          "base_uri": "https://localhost:8080/",
          "height": 282
        },
        "id": "5VX8m73D__Ka",
        "outputId": "1892f446-5f07-439c-8cbb-063baf6137ad"
      },
      "outputs": [
        {
          "data": {
            "text/plain": [
              "<matplotlib.axes._subplots.AxesSubplot at 0x7fc2a21dded0>"
            ]
          },
          "execution_count": 21,
          "metadata": {},
          "output_type": "execute_result"
        },
        {
          "data": {
            "image/png": "[encoded data removed]",
            "text/plain": [
              "<Figure size 432x288 with 1 Axes>"
            ]
          },
          "metadata": {
            "needs_background": "light"
          },
          "output_type": "display_data"
        }
      ],
      "source": [
        "from sklearn.metrics import confusion_matrix\n",
        "from numpy import argmax \n",
        "import seaborn as sns\n",
        "y_test_pred = model.predict(x_test)\n",
        "y_pred = []\n",
        "for i in range(len(y_test_pred)):\n",
        "  y_pred.append(argmax(y_test_pred[i]))\n",
        "y_test_ = []\n",
        "for i in range(len(y_test)):\n",
        "  y_test_.append(argmax(y_test[i]))\n",
        "conf_mat = confusion_matrix(y_test_, y_pred)\n",
        "sns.heatmap(conf_mat, square=True, annot=True, cmap='Reds', fmt='d', cbar=False)"
      ]
    },
    {
      "cell_type": "code",
      "execution_count": 22,
      "metadata": {
        "colab": {
          "base_uri": "https://localhost:8080/",
          "height": 282
        },
        "id": "Bbku1CT6d1V-",
        "outputId": "969448be-4486-4f8d-a7f7-0e92f6b47648"
      },
      "outputs": [
        {
          "data": {
            "text/plain": [
              "<matplotlib.legend.Legend at 0x7fc2a2356490>"
            ]
          },
          "execution_count": 22,
          "metadata": {},
          "output_type": "execute_result"
        },
        {
          "data": {
            "image/png": "[encoded data removed]",
            "text/plain": [
              "<Figure size 432x288 with 1 Axes>"
            ]
          },
          "metadata": {
            "needs_background": "light"
          },
          "output_type": "display_data"
        }
      ],
      "source": [
        "plt.plot(history.history['accuracy'], label='Train')\n",
        "plt.plot(history.history['val_accuracy'], label='Test')\n",
        "plt.legend()"
      ]
    },
    {
      "cell_type": "code",
      "execution_count": 26,
      "metadata": {
        "colab": {
          "base_uri": "https://localhost:8080/"
        },
        "id": "LEYjdJaIApJy",
        "outputId": "d5161d2a-17e8-42fd-e1de-bcc982de8305"
      },
      "outputs": [
        {
          "data": {
            "text/plain": [
              "[0.9938268661499023,\n",
              " 0.9934265613555908,\n",
              " 0.9940270185470581,\n",
              " 0.993955671787262,\n",
              " 0.9936286807060242]"
            ]
          },
          "execution_count": 26,
          "metadata": {},
          "output_type": "execute_result"
        }
      ],
      "source": [
        "history.history['val_accuracy']"
      ]
    }
  ],
  "metadata": {
    "accelerator": "GPU",
    "colab": {
      "collapsed_sections": [],
      "machine_shape": "hm",
      "provenance": []
    },
    "gpuClass": "standard",
    "kernelspec": {
      "display_name": "Python 3",
      "name": "python3"
    },
    "language_info": {
      "name": "python"
    }
  },
  "nbformat": 4,
  "nbformat_minor": 0
}
